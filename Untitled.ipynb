{
 "cells": [
  {
   "cell_type": "markdown",
   "id": "faacb9c4",
   "metadata": {},
   "source": []
  },
  {
   "cell_type": "code",
   "execution_count": 1,
   "id": "9949f3a1",
   "metadata": {
    "scrolled": true
   },
   "outputs": [
    {
     "name": "stdout",
     "output_type": "stream",
     "text": [
      "hello everyone\n"
     ]
    }
   ],
   "source": [
    "print(\"hello everyone\")"
   ]
  },
  {
   "cell_type": "code",
   "execution_count": 2,
   "id": "f579c2fb",
   "metadata": {},
   "outputs": [
    {
     "ename": "NameError",
     "evalue": "name 'hello' is not defined",
     "output_type": "error",
     "traceback": [
      "\u001b[1;31m---------------------------------------------------------------------------\u001b[0m",
      "\u001b[1;31mNameError\u001b[0m                                 Traceback (most recent call last)",
      "Cell \u001b[1;32mIn[2], line 1\u001b[0m\n\u001b[1;32m----> 1\u001b[0m hello(\u001b[38;5;124m\"\u001b[39m\u001b[38;5;124mwhere are you\u001b[39m\u001b[38;5;124m\"\u001b[39m)\n",
      "\u001b[1;31mNameError\u001b[0m: name 'hello' is not defined"
     ]
    }
   ],
   "source": []
  },
  {
   "cell_type": "code",
   "execution_count": 3,
   "id": "54e64d84",
   "metadata": {},
   "outputs": [
    {
     "name": "stdout",
     "output_type": "stream",
     "text": [
      "hello everyone\n"
     ]
    }
   ],
   "source": [
    "print(\"hello everyone\")"
   ]
  },
  {
   "cell_type": "code",
   "execution_count": 5,
   "id": "4d263fe5",
   "metadata": {},
   "outputs": [
    {
     "name": "stdout",
     "output_type": "stream",
     "text": [
      "hello everyone\n"
     ]
    }
   ],
   "source": [
    "print(\"hello everyone\")"
   ]
  },
  {
   "cell_type": "code",
   "execution_count": 9,
   "id": "139bd68b",
   "metadata": {},
   "outputs": [
    {
     "name": "stderr",
     "output_type": "stream",
     "text": [
      "<>:1: SyntaxWarning: 'str' object is not callable; perhaps you missed a comma?\n",
      "<>:1: SyntaxWarning: 'str' object is not callable; perhaps you missed a comma?\n",
      "C:\\Users\\USER-PC\\AppData\\Local\\Temp\\ipykernel_11620\\521389822.py:1: SyntaxWarning: 'str' object is not callable; perhaps you missed a comma?\n",
      "  'where'('Are you for now')\n"
     ]
    },
    {
     "ename": "TypeError",
     "evalue": "'str' object is not callable",
     "output_type": "error",
     "traceback": [
      "\u001b[1;31m---------------------------------------------------------------------------\u001b[0m",
      "\u001b[1;31mTypeError\u001b[0m                                 Traceback (most recent call last)",
      "Cell \u001b[1;32mIn[9], line 1\u001b[0m\n\u001b[1;32m----> 1\u001b[0m \u001b[38;5;124m'\u001b[39m\u001b[38;5;124mwhere\u001b[39m\u001b[38;5;124m'\u001b[39m(\u001b[38;5;124m'\u001b[39m\u001b[38;5;124mAre you for now\u001b[39m\u001b[38;5;124m'\u001b[39m)\n",
      "\u001b[1;31mTypeError\u001b[0m: 'str' object is not callable"
     ]
    }
   ],
   "source": [
    "'where'('Are you for now')"
   ]
  },
  {
   "cell_type": "code",
   "execution_count": 10,
   "id": "1557c200",
   "metadata": {},
   "outputs": [
    {
     "name": "stdout",
     "output_type": "stream",
     "text": [
      "hello everyone\n"
     ]
    }
   ],
   "source": [
    "print(\"hello everyone\")"
   ]
  },
  {
   "cell_type": "code",
   "execution_count": 11,
   "id": "d41b43df",
   "metadata": {},
   "outputs": [
    {
     "name": "stdout",
     "output_type": "stream",
     "text": [
      "hello everyone\n"
     ]
    }
   ],
   "source": [
    "print(\"hello everyone\")"
   ]
  },
  {
   "cell_type": "code",
   "execution_count": 12,
   "id": "3c066c4f",
   "metadata": {},
   "outputs": [
    {
     "ename": "NameError",
     "evalue": "name 'Kehinde' is not defined",
     "output_type": "error",
     "traceback": [
      "\u001b[1;31m---------------------------------------------------------------------------\u001b[0m",
      "\u001b[1;31mNameError\u001b[0m                                 Traceback (most recent call last)",
      "Cell \u001b[1;32mIn[12], line 1\u001b[0m\n\u001b[1;32m----> 1\u001b[0m Kehinde(\u001b[38;5;124m\"\u001b[39m\u001b[38;5;124mwebfala\u001b[39m\u001b[38;5;124m\"\u001b[39m)\n",
      "\u001b[1;31mNameError\u001b[0m: name 'Kehinde' is not defined"
     ]
    }
   ],
   "source": [
    "Kehinde(\"webfala\")"
   ]
  },
  {
   "cell_type": "code",
   "execution_count": null,
   "id": "95cd6ab8",
   "metadata": {},
   "outputs": [],
   "source": []
  },
  {
   "cell_type": "code",
   "execution_count": 13,
   "id": "55a47edd",
   "metadata": {},
   "outputs": [
    {
     "name": "stdout",
     "output_type": "stream",
     "text": [
      "kehinde\n"
     ]
    }
   ],
   "source": [
    "print(\"kehinde\")"
   ]
  },
  {
   "cell_type": "code",
   "execution_count": 14,
   "id": "7a14dfc2",
   "metadata": {},
   "outputs": [
    {
     "name": "stdout",
     "output_type": "stream",
     "text": [
      "webfala Digital skills for all inititive\n"
     ]
    }
   ],
   "source": [
    "print(\"webfala Digital skills for all inititive\")"
   ]
  },
  {
   "cell_type": "code",
   "execution_count": 15,
   "id": "ebf719d1",
   "metadata": {},
   "outputs": [
    {
     "name": "stdout",
     "output_type": "stream",
     "text": [
      "webfala digital skills for all initiave a coomunity development organisation\n"
     ]
    }
   ],
   "source": [
    "print(\"webfala digital skills for all initiave a coomunity development organisation\")"
   ]
  },
  {
   "cell_type": "code",
   "execution_count": 16,
   "id": "45e05ac4",
   "metadata": {},
   "outputs": [
    {
     "name": "stdout",
     "output_type": "stream",
     "text": [
      "we are women inclusion organization saddled with women empowerment in technology and digital right provision\n"
     ]
    }
   ],
   "source": [
    "print(\"we are women inclusion organization saddled with women empowerment in technology and digital right provision\")"
   ]
  },
  {
   "cell_type": "code",
   "execution_count": 18,
   "id": "2b3b383a",
   "metadata": {},
   "outputs": [
    {
     "name": "stdout",
     "output_type": "stream",
     "text": [
      "our misssion and objective are around women inclusion in governace, technology and tech empowerment\n"
     ]
    }
   ],
   "source": [
    "print(\"our misssion and objective are around women inclusion in governace, technology and tech empowerment\")"
   ]
  },
  {
   "cell_type": "code",
   "execution_count": null,
   "id": "33ee64a7",
   "metadata": {},
   "outputs": [],
   "source": []
  }
 ],
 "metadata": {
  "kernelspec": {
   "display_name": "Python 3 (ipykernel)",
   "language": "python",
   "name": "python3"
  },
  "language_info": {
   "codemirror_mode": {
    "name": "ipython",
    "version": 3
   },
   "file_extension": ".py",
   "mimetype": "text/x-python",
   "name": "python",
   "nbconvert_exporter": "python",
   "pygments_lexer": "ipython3",
   "version": "3.11.5"
  }
 },
 "nbformat": 4,
 "nbformat_minor": 5
}
